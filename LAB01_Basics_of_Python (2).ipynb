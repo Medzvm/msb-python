{
  "cells": [
    {
      "cell_type": "markdown",
      "metadata": {
        "id": "fY13TnU6aIMg"
      },
      "source": [
        "**Variable Declarations and Basic Types:**\n",
        "Declare variables of different types (integers, floats, strings) and assign values to them."
      ]
    },
    {
      "cell_type": "code",
      "execution_count": 23,
      "metadata": {
        "id": "aemjrEAYaFuG",
        "outputId": "26731e00-3b13-4073-a2bd-022b7ddf82b6",
        "colab": {
          "base_uri": "https://localhost:8080/"
        }
      },
      "outputs": [
        {
          "output_type": "stream",
          "name": "stdout",
          "text": [
            "25\n",
            "<class 'int'>\n",
            "<class 'float'>\n",
            "7500.5\n",
            "John Doe\n",
            "<class 'str'>\n",
            "False\n",
            "<class 'bool'>\n",
            "student information: \n",
            " name : John Doe \n",
            " age : 25 \n",
            " salary : 7500.5\n"
          ]
        }
      ],
      "source": [
        "# Declare and initialize variables\n",
        "# age >18\n",
        "age= 25\n",
        "print(age)\n",
        "print(type(age))\n",
        "\n",
        "# salary > 500.0\n",
        "salary= 7500.50\n",
        "print(type(salary))\n",
        "print(salary)\n",
        "\n",
        "#name\n",
        "name= \"John Doe\"\n",
        "print(name)\n",
        "print(type(name))\n",
        "\n",
        "#is_student: boolean varialbe\n",
        "is_student= False\n",
        "print(is_student)\n",
        "print(type(is_student))\n",
        "\n",
        "print(f\"student information: \\n name : {name} \\n age : {age} \\n salary : {salary}\")"
      ]
    },
    {
      "cell_type": "markdown",
      "metadata": {
        "id": "B2m2l1QtaZ07"
      },
      "source": [
        "**Arithmetic Expressions:**\n",
        "\n",
        "Create exercises that involve arithmetic operations."
      ]
    },
    {
      "cell_type": "code",
      "execution_count": 12,
      "metadata": {
        "id": "y1HLccvmaaOc",
        "outputId": "4da4674c-c2e0-40db-a82a-b24f96cac5d6",
        "colab": {
          "base_uri": "https://localhost:8080/"
        }
      },
      "outputs": [
        {
          "output_type": "stream",
          "name": "stdout",
          "text": [
            "Total cost: 25\n",
            "Average price: 12.5\n"
          ]
        }
      ],
      "source": [
        "\n",
        "item1_price = 10\n",
        "item2_price = 15\n",
        "\n",
        "# Calculate the total cost of items\n",
        "total_cost =item1_price + item2_price\n",
        "#print the total_cost\n",
        "print(\"Total cost:\", total_cost)\n",
        "# Calculate and print the average price\n",
        "print(\"Average price:\", total_cost / 2)\n"
      ]
    },
    {
      "cell_type": "markdown",
      "metadata": {
        "id": "V8owsTjsawOt"
      },
      "source": [
        "**String Manipulation:**\n",
        "\n",
        "Practice string concatenation and formatting:\n",
        "use len, upper, lower, split with string\n"
      ]
    },
    {
      "cell_type": "code",
      "execution_count": 13,
      "metadata": {
        "id": "aRWzK9IxawpQ",
        "outputId": "6e1ff552-b3d8-4a80-8ad6-f91e89c39486",
        "colab": {
          "base_uri": "https://localhost:8080/"
        }
      },
      "outputs": [
        {
          "output_type": "stream",
          "name": "stdout",
          "text": [
            "Full name: Sarra Ben Abdallah\n",
            "Length of full name: 17\n",
            "['This', 'is', 'a', 'sample', 'text', 'string', 'for', 'splitting.', 'We', 'can', 'use', 'the', 'split', 'function', 'to', 'break', 'it', 'down', 'into', 'individual', 'words', 'or', 'phrases.']\n",
            "<class 'list'>\n"
          ]
        }
      ],
      "source": [
        "first_name = \"Sarra\"\n",
        "last_name = \"Ben Abdallah\"\n",
        "\n",
        "# Combine first name and last name and print the full_name\n",
        "print(\"Full name:\", first_name + \" \" + last_name)\n",
        "\n",
        "\n",
        "# Calculate and print the length of the full name\n",
        "print(\"Length of full name:\", len(first_name + last_name))\n",
        "\n",
        "# a text contains a variety of characters, including spaces, punctuation, and words of different lengths.\n",
        "# It's a good choice for demonstrating how the split() function works, as it will produce clear and meaningful results.\n",
        "# Declare words variables to store all words from text variable\n",
        "\n",
        "text=\"This is a sample text string for splitting. We can use the split function to break it down into individual words or phrases.\"\n",
        "words = text.split()\n",
        "\n",
        "print(words)\n",
        "print(type(words))\n",
        "\n",
        "# convert text to upper case\n",
        "text = text.upper()\n",
        "# convert text to lower case\n",
        "text = text.lower()"
      ]
    },
    {
      "cell_type": "markdown",
      "metadata": {
        "id": "TTv07TPOcPx6"
      },
      "source": [
        "**Type Casting:**\n",
        "\n",
        "Provide scenarios where type casting is necessary:"
      ]
    },
    {
      "cell_type": "code",
      "execution_count": 14,
      "metadata": {
        "id": "M7Jh7O13cQLr",
        "outputId": "85ecbbc9-0748-457d-9638-e71e7d2ea6e8",
        "colab": {
          "base_uri": "https://localhost:8080/"
        }
      },
      "outputs": [
        {
          "output_type": "stream",
          "name": "stdout",
          "text": [
            "Enter your age: 3\n",
            "19\n",
            "5.0\n",
            "123\n",
            "<class 'str'>\n",
            "True\n",
            "<class 'bool'>\n",
            "True\n",
            "<class 'bool'>\n",
            "True\n",
            "<class 'bool'>\n"
          ]
        }
      ],
      "source": [
        "user_input = input(\"Enter your age: \")\n",
        "# Convert a string to an integer\n",
        "\n",
        "user_input=int(user_input)\n",
        "# Convert a float to an integer\n",
        "price = 19.99\n",
        "discounted_price = int(price)\n",
        "print(discounted_price)\n",
        "\n",
        "# Convert an integer to a float\n",
        "quantity = 5\n",
        "total_cost = float(quantity)\n",
        "print(total_cost)\n",
        "\n",
        "# Convert an integer to a string\n",
        "product_id = 123\n",
        "product_code =str(product_id)\n",
        "print(product_code)\n",
        "print(type(product_code))\n",
        "\n",
        "# Convert a string to a boolean\n",
        "is_admin = \"True\"\n",
        "is_admin_bool = bool(is_admin)\n",
        "print(is_admin_bool)\n",
        "print(type(is_admin_bool))\n",
        "\n",
        "X=\"0\"\n",
        "Y=bool(X)\n",
        "print(Y)\n",
        "print(type(Y))\n",
        "\n",
        "#convert an int to boolean\n",
        "is_admin = 1\n",
        "is_admin_bool = bool(is_admin)\n",
        "print(is_admin_bool)\n",
        "print(type(is_admin_bool))\n"
      ]
    },
    {
      "cell_type": "markdown",
      "metadata": {
        "id": "uV8PzTDYe_o7"
      },
      "source": [
        "**Exercise**: Write a Python program that:\n",
        "\n",
        "Prompts the user to enter a positive number of seconds.\n",
        "\n",
        "Converts the entered number of seconds to hours, minutes, and seconds.\n",
        "\n",
        "Prints the converted time in the format \"HH:MM:SS\""
      ]
    },
    {
      "cell_type": "code",
      "execution_count": 22,
      "metadata": {
        "id": "GL4nRqSZe_6H",
        "colab": {
          "base_uri": "https://localhost:8080/"
        },
        "outputId": "20761602-9fb7-4e6c-b7a3-58f6db98036d"
      },
      "outputs": [
        {
          "output_type": "stream",
          "name": "stdout",
          "text": [
            "N=3600\n",
            "Hours= 1.0\n",
            "Minutes= 60.0\n",
            "Seconds= 3600.0\n"
          ]
        }
      ],
      "source": [
        "#enter a positive number\n",
        "n=int(input(\"N=\"))\n",
        "\n",
        "#covert to Hours\n",
        "n=n/3600\n",
        "print(\"Hours=\",n)\n",
        "#covert to Minutes\n",
        "n=n*60\n",
        "print(\"Minutes=\",n)\n",
        "#covert to Seconds\n",
        "n=n*60\n",
        "print(\"Seconds=\",n)\n"
      ]
    }
  ],
  "metadata": {
    "colab": {
      "provenance": [],
      "toc_visible": true
    },
    "kernelspec": {
      "display_name": "base",
      "language": "python",
      "name": "python3"
    },
    "language_info": {
      "codemirror_mode": {
        "name": "ipython",
        "version": 3
      },
      "file_extension": ".py",
      "mimetype": "text/x-python",
      "name": "python",
      "nbconvert_exporter": "python",
      "pygments_lexer": "ipython3",
      "version": "3.11.5"
    }
  },
  "nbformat": 4,
  "nbformat_minor": 0
}