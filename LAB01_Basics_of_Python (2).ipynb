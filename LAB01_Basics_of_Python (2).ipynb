{
  "cells": [
    {
      "cell_type": "markdown",
      "metadata": {
        "id": "fY13TnU6aIMg"
      },
      "source": [
        "**Variable Declarations and Basic Types:**\n",
        "Declare variables of different types (integers, floats, strings) and assign values to them."
      ]
    },
    {
      "cell_type": "code",
      "execution_count": 2,
      "metadata": {
        "id": "aemjrEAYaFuG"
      },
      "outputs": [
        {
          "name": "stdout",
          "output_type": "stream",
          "text": [
            "25\n",
            "<class 'int'>\n",
            "<class 'float'>\n",
            "7500.5\n",
            "John Doe\n",
            "<class 'str'>\n",
            "False\n",
            "<class 'bool'>\n"
          ]
        }
      ],
      "source": [
        "# Declare and initialize variables\n",
        "# age >18\n",
        "age= 25\n",
        "print(age)\n",
        "print(type(age))\n",
        "\n",
        "# salary > 500.0\n",
        "salary= 7500.50\n",
        "print(type(salary))\n",
        "print(salary)\n",
        "\n",
        "#name\n",
        "name= \"John Doe\"\n",
        "print(name)\n",
        "print(type(name))\n",
        "\n",
        "#is_student: boolean varialbe\n",
        "is_student= False\n",
        "print(is_student)\n",
        "print(type(is_student))"
      ]
    },
    {
      "cell_type": "markdown",
      "metadata": {
        "id": "B2m2l1QtaZ07"
      },
      "source": [
        "**Arithmetic Expressions:**\n",
        "\n",
        "Create exercises that involve arithmetic operations."
      ]
    },
    {
      "cell_type": "code",
      "execution_count": 1,
      "metadata": {
        "id": "y1HLccvmaaOc"
      },
      "outputs": [
        {
          "name": "stdout",
          "output_type": "stream",
          "text": [
            "Total cost: 25\n",
            "Average price: 12.5\n"
          ]
        }
      ],
      "source": [
        "\n",
        "item1_price = 10\n",
        "item2_price = 15\n",
        "\n",
        "# Calculate the total cost of items\n",
        "total_cost =item1_price + item2_price\n",
        "#print the total_cost\n",
        "print(\"Total cost:\", total_cost)\n",
        "# Calculate and print the average price\n",
        "print(\"Average price:\", total_cost / 2)\n"
      ]
    },
    {
      "cell_type": "markdown",
      "metadata": {
        "id": "V8owsTjsawOt"
      },
      "source": [
        "**String Manipulation:**\n",
        "\n",
        "Practice string concatenation and formatting:\n",
        "use len, upper, lower, split with string\n"
      ]
    },
    {
      "cell_type": "code",
      "execution_count": null,
      "metadata": {
        "id": "aRWzK9IxawpQ"
      },
      "outputs": [],
      "source": [
        "first_name = \"Sarra\"\n",
        "last_name = \"Ben Abdallah\"\n",
        "\n",
        "# Combine first name and last name and print the full_name\n",
        "print(\"Full name:\", first_name + \" \" + last_name)\n",
        "\n",
        "\n",
        "# Calculate and print the length of the full name\n",
        "print(\"Length of full name:\", len(first_name + last_name))\n",
        "\n",
        "# a text contains a variety of characters, including spaces, punctuation, and words of different lengths.\n",
        "# It's a good choice for demonstrating how the split() function works, as it will produce clear and meaningful results.\n",
        "# Declare words variables to store all words from text variable\n",
        "\n",
        "text=\"This is a sample text string for splitting. We can use the split function to break it down into individual words or phrases.\"\n",
        "\n",
        "\n",
        "print(words)\n",
        "print(type(words))\n",
        "\n",
        "# convert text to upper case\n",
        "\n",
        "# convert text to lower case\n"
      ]
    },
    {
      "cell_type": "markdown",
      "metadata": {
        "id": "TTv07TPOcPx6"
      },
      "source": [
        "**Type Casting:**\n",
        "\n",
        "Provide scenarios where type casting is necessary:"
      ]
    },
    {
      "cell_type": "code",
      "execution_count": null,
      "metadata": {
        "id": "M7Jh7O13cQLr"
      },
      "outputs": [],
      "source": [
        "user_input = input(\"Enter your age: \")\n",
        "# Convert a string to an integer\n",
        "\n",
        "\n",
        "# Convert a float to an integer\n",
        "price =\n",
        "discounted_price =\n",
        "print(discounted_price)\n",
        "\n",
        "# Convert an integer to a float\n",
        "quantity = 5\n",
        "total_cost =\n",
        "print(total_cost)\n",
        "\n",
        "# Convert an integer to a string\n",
        "product_id = 123\n",
        "product_code =\n",
        "print(product_code)\n",
        "print(type(product_code))\n",
        "\n",
        "# Convert a string to a boolean\n",
        "is_admin = \"True\"\n",
        "is_admin_bool =\n",
        "print(is_admin_bool)\n",
        "print(type(is_admin_bool))\n",
        "\n",
        "X=\"0\"\n",
        "Y=bool(X)\n",
        "print(Y)\n",
        "print(type(Y))\n",
        "\n",
        "#convert an int to boolean\n",
        "is_admin = 1\n",
        "is_admin_bool = bool(is_admin)\n",
        "print(is_admin_bool)\n",
        "print(type(is_admin_bool))\n"
      ]
    },
    {
      "cell_type": "markdown",
      "metadata": {
        "id": "uV8PzTDYe_o7"
      },
      "source": [
        "**Exercise**: Write a Python program that:\n",
        "\n",
        "Prompts the user to enter a positive number of seconds.\n",
        "\n",
        "Converts the entered number of seconds to hours, minutes, and seconds.\n",
        "\n",
        "Prints the converted time in the format \"HH:MM:SS\""
      ]
    },
    {
      "cell_type": "code",
      "execution_count": null,
      "metadata": {
        "id": "GL4nRqSZe_6H"
      },
      "outputs": [],
      "source": [
        "#enter a positive number\n",
        "n=int(input(\"N=\"))\n",
        "\n",
        "#covert to Hours\n",
        "\n",
        "#covert to Minutes\n",
        "\n",
        "#covert to Seconds\n",
        "\n",
        "\n"
      ]
    }
  ],
  "metadata": {
    "colab": {
      "provenance": []
    },
    "kernelspec": {
      "display_name": "base",
      "language": "python",
      "name": "python3"
    },
    "language_info": {
      "codemirror_mode": {
        "name": "ipython",
        "version": 3
      },
      "file_extension": ".py",
      "mimetype": "text/x-python",
      "name": "python",
      "nbconvert_exporter": "python",
      "pygments_lexer": "ipython3",
      "version": "3.11.5"
    }
  },
  "nbformat": 4,
  "nbformat_minor": 0
}
