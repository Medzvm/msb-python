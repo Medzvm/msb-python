{
  "cells": [
    {
      "cell_type": "markdown",
      "metadata": {
        "id": "fY13TnU6aIMg"
      },
      "source": [
        "**Variable Declarations and Basic Types:**\n",
        "Declare variables of different types (integers, floats, strings) and assign values to them."
      ]
    },
    {
      "cell_type": "code",
      "execution_count": 1,
      "metadata": {
        "id": "aemjrEAYaFuG",
        "outputId": "aa63f303-d953-4461-eaa1-683ab5ab26a8",
        "colab": {
          "base_uri": "https://localhost:8080/"
        }
      },
      "outputs": [
        {
          "output_type": "stream",
          "name": "stdout",
          "text": [
            "25\n",
            "<class 'int'>\n",
            "<class 'float'>\n",
            "7500.5\n",
            "John Doe\n",
            "<class 'str'>\n",
            "False\n",
            "<class 'bool'>\n"
          ]
        }
      ],
      "source": [
        "# Declare and initialize variables\n",
        "# age >18\n",
        "age= 25\n",
        "print(age)\n",
        "print(type(age))\n",
        "\n",
        "# salary > 500.0\n",
        "salary= 7500.50\n",
        "print(type(salary))\n",
        "print(salary)\n",
        "\n",
        "#name\n",
        "name= \"John Doe\"\n",
        "print(name)\n",
        "print(type(name))\n",
        "\n",
        "#is_student: boolean varialbe\n",
        "is_student= False\n",
        "print(is_student)\n",
        "print(type(is_student))"
      ]
    },
    {
      "cell_type": "markdown",
      "metadata": {
        "id": "B2m2l1QtaZ07"
      },
      "source": [
        "**Arithmetic Expressions:**\n",
        "\n",
        "Create exercises that involve arithmetic operations."
      ]
    },
    {
      "cell_type": "code",
      "execution_count": 2,
      "metadata": {
        "id": "y1HLccvmaaOc",
        "outputId": "dc565958-9ede-4272-828b-f3d5156c05c2",
        "colab": {
          "base_uri": "https://localhost:8080/"
        }
      },
      "outputs": [
        {
          "output_type": "stream",
          "name": "stdout",
          "text": [
            "Total cost: 25\n",
            "Average price: 12.5\n"
          ]
        }
      ],
      "source": [
        "\n",
        "item1_price = 10\n",
        "item2_price = 15\n",
        "\n",
        "# Calculate the total cost of items\n",
        "total_cost =item1_price + item2_price\n",
        "#print the total_cost\n",
        "print(\"Total cost:\", total_cost)\n",
        "# Calculate and print the average price\n",
        "print(\"Average price:\", total_cost / 2)\n"
      ]
    },
    {
      "cell_type": "markdown",
      "metadata": {
        "id": "V8owsTjsawOt"
      },
      "source": [
        "**String Manipulation:**\n",
        "\n",
        "Practice string concatenation and formatting:\n",
        "use len, upper, lower, split with string\n"
      ]
    },
    {
      "cell_type": "code",
      "execution_count": 3,
      "metadata": {
        "id": "aRWzK9IxawpQ",
        "outputId": "de451165-6ebf-4842-a880-4c70f854c5ff",
        "colab": {
          "base_uri": "https://localhost:8080/",
          "height": 245
        }
      },
      "outputs": [
        {
          "output_type": "stream",
          "name": "stdout",
          "text": [
            "Full name: Sarra Ben Abdallah\n",
            "Length of full name: 17\n"
          ]
        },
        {
          "output_type": "error",
          "ename": "NameError",
          "evalue": "name 'words' is not defined",
          "traceback": [
            "\u001b[0;31m---------------------------------------------------------------------------\u001b[0m",
            "\u001b[0;31mNameError\u001b[0m                                 Traceback (most recent call last)",
            "\u001b[0;32m/tmp/ipython-input-3622881732.py\u001b[0m in \u001b[0;36m<cell line: 0>\u001b[0;34m()\u001b[0m\n\u001b[1;32m     16\u001b[0m \u001b[0;34m\u001b[0m\u001b[0m\n\u001b[1;32m     17\u001b[0m \u001b[0;34m\u001b[0m\u001b[0m\n\u001b[0;32m---> 18\u001b[0;31m \u001b[0mprint\u001b[0m\u001b[0;34m(\u001b[0m\u001b[0mwords\u001b[0m\u001b[0;34m)\u001b[0m\u001b[0;34m\u001b[0m\u001b[0;34m\u001b[0m\u001b[0m\n\u001b[0m\u001b[1;32m     19\u001b[0m \u001b[0mprint\u001b[0m\u001b[0;34m(\u001b[0m\u001b[0mtype\u001b[0m\u001b[0;34m(\u001b[0m\u001b[0mwords\u001b[0m\u001b[0;34m)\u001b[0m\u001b[0;34m)\u001b[0m\u001b[0;34m\u001b[0m\u001b[0;34m\u001b[0m\u001b[0m\n\u001b[1;32m     20\u001b[0m \u001b[0;34m\u001b[0m\u001b[0m\n",
            "\u001b[0;31mNameError\u001b[0m: name 'words' is not defined"
          ]
        }
      ],
      "source": [
        "first_name = \"Sarra\"\n",
        "last_name = \"Ben Abdallah\"\n",
        "\n",
        "# Combine first name and last name and print the full_name\n",
        "print(\"Full name:\", first_name + \" \" + last_name)\n",
        "\n",
        "\n",
        "# Calculate and print the length of the full name\n",
        "print(\"Length of full name:\", len(first_name + last_name))\n",
        "\n",
        "# a text contains a variety of characters, including spaces, punctuation, and words of different lengths.\n",
        "# It's a good choice for demonstrating how the split() function works, as it will produce clear and meaningful results.\n",
        "# Declare words variables to store all words from text variable\n",
        "\n",
        "text=\"This is a sample text string for splitting. We can use the split function to break it down into individual words or phrases.\"\n",
        "\n",
        "\n",
        "print(words)\n",
        "print(type(words))\n",
        "\n",
        "# convert text to upper case\n",
        "\n",
        "# convert text to lower case\n"
      ]
    },
    {
      "cell_type": "markdown",
      "metadata": {
        "id": "TTv07TPOcPx6"
      },
      "source": [
        "**Type Casting:**\n",
        "\n",
        "Provide scenarios where type casting is necessary:"
      ]
    },
    {
      "cell_type": "code",
      "execution_count": 4,
      "metadata": {
        "id": "M7Jh7O13cQLr",
        "outputId": "6d426254-f014-4803-8cd1-adec1ee99b4e",
        "colab": {
          "base_uri": "https://localhost:8080/",
          "height": 356
        }
      },
      "outputs": [
        {
          "output_type": "error",
          "ename": "KeyboardInterrupt",
          "evalue": "Interrupted by user",
          "traceback": [
            "\u001b[0;31m---------------------------------------------------------------------------\u001b[0m",
            "\u001b[0;31mKeyboardInterrupt\u001b[0m                         Traceback (most recent call last)",
            "\u001b[0;32m/tmp/ipython-input-516109693.py\u001b[0m in \u001b[0;36m<cell line: 0>\u001b[0;34m()\u001b[0m\n\u001b[0;32m----> 1\u001b[0;31m \u001b[0muser_input\u001b[0m \u001b[0;34m=\u001b[0m \u001b[0minput\u001b[0m\u001b[0;34m(\u001b[0m\u001b[0;34m\"Enter your age: \"\u001b[0m\u001b[0;34m)\u001b[0m\u001b[0;34m\u001b[0m\u001b[0;34m\u001b[0m\u001b[0m\n\u001b[0m\u001b[1;32m      2\u001b[0m \u001b[0;31m# Convert a string to an integer\u001b[0m\u001b[0;34m\u001b[0m\u001b[0;34m\u001b[0m\u001b[0m\n\u001b[1;32m      3\u001b[0m \u001b[0;34m\u001b[0m\u001b[0m\n\u001b[1;32m      4\u001b[0m \u001b[0muser_input\u001b[0m\u001b[0;34m=\u001b[0m\u001b[0mint\u001b[0m\u001b[0;34m(\u001b[0m\u001b[0muser_input\u001b[0m\u001b[0;34m)\u001b[0m\u001b[0;34m\u001b[0m\u001b[0;34m\u001b[0m\u001b[0m\n\u001b[1;32m      5\u001b[0m \u001b[0;31m# Convert a float to an integer\u001b[0m\u001b[0;34m\u001b[0m\u001b[0;34m\u001b[0m\u001b[0m\n",
            "\u001b[0;32m/usr/local/lib/python3.12/dist-packages/ipykernel/kernelbase.py\u001b[0m in \u001b[0;36mraw_input\u001b[0;34m(self, prompt)\u001b[0m\n\u001b[1;32m   1175\u001b[0m                 \u001b[0;34m\"raw_input was called, but this frontend does not support input requests.\"\u001b[0m\u001b[0;34m\u001b[0m\u001b[0;34m\u001b[0m\u001b[0m\n\u001b[1;32m   1176\u001b[0m             )\n\u001b[0;32m-> 1177\u001b[0;31m         return self._input_request(\n\u001b[0m\u001b[1;32m   1178\u001b[0m             \u001b[0mstr\u001b[0m\u001b[0;34m(\u001b[0m\u001b[0mprompt\u001b[0m\u001b[0;34m)\u001b[0m\u001b[0;34m,\u001b[0m\u001b[0;34m\u001b[0m\u001b[0;34m\u001b[0m\u001b[0m\n\u001b[1;32m   1179\u001b[0m             \u001b[0mself\u001b[0m\u001b[0;34m.\u001b[0m\u001b[0m_parent_ident\u001b[0m\u001b[0;34m[\u001b[0m\u001b[0;34m\"shell\"\u001b[0m\u001b[0;34m]\u001b[0m\u001b[0;34m,\u001b[0m\u001b[0;34m\u001b[0m\u001b[0;34m\u001b[0m\u001b[0m\n",
            "\u001b[0;32m/usr/local/lib/python3.12/dist-packages/ipykernel/kernelbase.py\u001b[0m in \u001b[0;36m_input_request\u001b[0;34m(self, prompt, ident, parent, password)\u001b[0m\n\u001b[1;32m   1217\u001b[0m             \u001b[0;32mexcept\u001b[0m \u001b[0mKeyboardInterrupt\u001b[0m\u001b[0;34m:\u001b[0m\u001b[0;34m\u001b[0m\u001b[0;34m\u001b[0m\u001b[0m\n\u001b[1;32m   1218\u001b[0m                 \u001b[0;31m# re-raise KeyboardInterrupt, to truncate traceback\u001b[0m\u001b[0;34m\u001b[0m\u001b[0;34m\u001b[0m\u001b[0m\n\u001b[0;32m-> 1219\u001b[0;31m                 \u001b[0;32mraise\u001b[0m \u001b[0mKeyboardInterrupt\u001b[0m\u001b[0;34m(\u001b[0m\u001b[0;34m\"Interrupted by user\"\u001b[0m\u001b[0;34m)\u001b[0m \u001b[0;32mfrom\u001b[0m \u001b[0;32mNone\u001b[0m\u001b[0;34m\u001b[0m\u001b[0;34m\u001b[0m\u001b[0m\n\u001b[0m\u001b[1;32m   1220\u001b[0m             \u001b[0;32mexcept\u001b[0m \u001b[0mException\u001b[0m\u001b[0;34m:\u001b[0m\u001b[0;34m\u001b[0m\u001b[0;34m\u001b[0m\u001b[0m\n\u001b[1;32m   1221\u001b[0m                 \u001b[0mself\u001b[0m\u001b[0;34m.\u001b[0m\u001b[0mlog\u001b[0m\u001b[0;34m.\u001b[0m\u001b[0mwarning\u001b[0m\u001b[0;34m(\u001b[0m\u001b[0;34m\"Invalid Message:\"\u001b[0m\u001b[0;34m,\u001b[0m \u001b[0mexc_info\u001b[0m\u001b[0;34m=\u001b[0m\u001b[0;32mTrue\u001b[0m\u001b[0;34m)\u001b[0m\u001b[0;34m\u001b[0m\u001b[0;34m\u001b[0m\u001b[0m\n",
            "\u001b[0;31mKeyboardInterrupt\u001b[0m: Interrupted by user"
          ]
        }
      ],
      "source": [
        "user_input = input(\"Enter your age: \")\n",
        "# Convert a string to an integer\n",
        "\n",
        "user_input=int(user_input)\n",
        "# Convert a float to an integer\n",
        "price = 19.99\n",
        "discounted_price = int(price)\n",
        "print(discounted_price)\n",
        "\n",
        "# Convert an integer to a float\n",
        "quantity = 5\n",
        "total_cost = float(quantity)\n",
        "print(total_cost)\n",
        "\n",
        "# Convert an integer to a string\n",
        "product_id = 123\n",
        "product_code =str(product_id)\n",
        "print(product_code)\n",
        "print(type(product_code))\n",
        "\n",
        "# Convert a string to a boolean\n",
        "is_admin = \"True\"\n",
        "is_admin_bool = bool(is_admin)\n",
        "print(is_admin_bool)\n",
        "print(type(is_admin_bool))\n",
        "\n",
        "X=\"0\"\n",
        "Y=bool(X)\n",
        "print(Y)\n",
        "print(type(Y))\n",
        "\n",
        "#convert an int to boolean\n",
        "is_admin = 1\n",
        "is_admin_bool = bool(is_admin)\n",
        "print(is_admin_bool)\n",
        "print(type(is_admin_bool))\n"
      ]
    },
    {
      "cell_type": "markdown",
      "metadata": {
        "id": "uV8PzTDYe_o7"
      },
      "source": [
        "**Exercise**: Write a Python program that:\n",
        "\n",
        "Prompts the user to enter a positive number of seconds.\n",
        "\n",
        "Converts the entered number of seconds to hours, minutes, and seconds.\n",
        "\n",
        "Prints the converted time in the format \"HH:MM:SS\""
      ]
    },
    {
      "cell_type": "code",
      "execution_count": null,
      "metadata": {
        "id": "GL4nRqSZe_6H"
      },
      "outputs": [],
      "source": [
        "#enter a positive number\n",
        "n=int(input(\"N=\"))\n",
        "\n",
        "#covert to Hours\n",
        "\n",
        "#covert to Minutes\n",
        "\n",
        "#covert to Seconds\n",
        "\n",
        "\n"
      ]
    }
  ],
  "metadata": {
    "colab": {
      "provenance": [],
      "toc_visible": true
    },
    "kernelspec": {
      "display_name": "base",
      "language": "python",
      "name": "python3"
    },
    "language_info": {
      "codemirror_mode": {
        "name": "ipython",
        "version": 3
      },
      "file_extension": ".py",
      "mimetype": "text/x-python",
      "name": "python",
      "nbconvert_exporter": "python",
      "pygments_lexer": "ipython3",
      "version": "3.11.5"
    }
  },
  "nbformat": 4,
  "nbformat_minor": 0
}