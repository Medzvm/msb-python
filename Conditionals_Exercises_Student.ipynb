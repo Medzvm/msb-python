{
  "cells": [
    {
      "cell_type": "markdown",
      "id": "94c55b9f",
      "metadata": {
        "id": "94c55b9f"
      },
      "source": [
        "## Exercise 1: Checking Discount Eligibility (Simple if)\n",
        "\n",
        "**Problem Statement:**\n",
        "A store offers a discount for purchases above $50. Write a program that asks the user to enter their total purchase amount and prints a message 'You are eligible for a discount!' only if the amount is greater than 50.\n",
        "\n",
        "**Hint:** Think about when the condition should trigger a message. If the condition is not met, the program does nothing.\n",
        "\n",
        "**Expected Outputs:**\n",
        "- Input: 30 → No output\n",
        "- Input: 75 → You are eligible for a discount!"
      ]
    },
    {
      "cell_type": "code",
      "execution_count": null,
      "id": "cd7052f2",
      "metadata": {
        "id": "cd7052f2"
      },
      "outputs": [],
      "source": [
        "purchase_amount = float(input(\"Enter your total purchase amount: \"))\n",
        "\n",
        "# Write your if statement here\n",
        "if purchase_amount > 50:\n",
        "    print(\"you are eligible for a discount\")\n"
      ]
    },
    {
      "cell_type": "markdown",
      "id": "c3b926cd",
      "metadata": {
        "id": "c3b926cd"
      },
      "source": [
        "### 🔎 Try it Yourself\n",
        "Change the inputs and run the code to see different results:"
      ]
    },
    {
      "cell_type": "code",
      "execution_count": null,
      "id": "70dec2cb",
      "metadata": {
        "id": "70dec2cb"
      },
      "outputs": [],
      "source": [
        "# Write additional tests here\n",
        "purchase_amount = float(input(\"Enter your total purchase amount: \"))\n",
        "\n",
        "# Write your if statement here\n",
        "if purchase_amount > 50:\n",
        "    print(\"you are eligible for a discount\")\n"
      ]
    },
    {
      "cell_type": "markdown",
      "id": "883a1532",
      "metadata": {
        "id": "883a1532"
      },
      "source": [
        "## Exercise 2: Even or Odd Number (If-Else)\n",
        "\n",
        "**Problem Statement:**\n",
        "Write a program that asks the user to enter a number. The program should check whether the number is even or odd and print the appropriate message.\n",
        "\n",
        "**Hint:** Remember that even numbers leave a remainder of 0 when divided by 2 (number % 2 == 0).\n",
        "\n",
        "**Expected Outputs:**\n",
        "- Input: 8 → The number is even.\n",
        "- Input: 15 → The number is odd."
      ]
    },
    {
      "cell_type": "code",
      "execution_count": 1,
      "id": "d83b8ac4",
      "metadata": {
        "id": "d83b8ac4"
      },
      "outputs": [
        {
          "name": "stdout",
          "output_type": "stream",
          "text": [
            "The number is even\n"
          ]
        }
      ],
      "source": [
        "number = int(input(\"Enter a number: \"))\n",
        "\n",
        "# Write your if-else statement here\n",
        "if number % 2 == 0:\n",
        "    print(\"The number is even\")\n",
        "else:\n",
        "    print(\"The number is odd\")"
      ]
    },
    {
      "cell_type": "markdown",
      "id": "8104f189",
      "metadata": {
        "id": "8104f189"
      },
      "source": [
        "### 🔎 Try it Yourself\n",
        "Change the inputs and run the code to see different results:"
      ]
    },
    {
      "cell_type": "code",
      "execution_count": null,
      "id": "9e9ee5db",
      "metadata": {
        "id": "9e9ee5db"
      },
      "outputs": [],
      "source": [
        "# Write additional tests here\n",
        "number = int(input(\"Enter a number: \"))\n",
        "\n",
        "# Write your if-else statement here\n",
        "if number % 2 == 0:\n",
        "    print(\"The number is even\")\n",
        "else:\n",
        "    print(\"The number is odd\")"
      ]
    },
    {
      "cell_type": "markdown",
      "id": "eca3f961",
      "metadata": {
        "id": "eca3f961"
      },
      "source": [
        "## Exercise 3: Grading System (If-Elif-Else)\n",
        "\n",
        "**Problem Statement:**\n",
        "Write a program that asks the user to enter their exam score (0–100). The program should assign a grade: 90–100 = A, 80–89 = B, 70–79 = C, 60–69 = D, below 60 = F.\n",
        "\n",
        "**Hint:** Start with the highest score range first and work downwards.\n",
        "\n",
        "**Expected Outputs:**\n",
        "- Input: 95 → Your grade is A\n",
        "- Input: 82 → Your grade is B\n",
        "- Input: 68 → Your grade is D\n",
        "- Input: 50 → Your grade is F"
      ]
    },
    {
      "cell_type": "code",
      "execution_count": 2,
      "id": "713fe465",
      "metadata": {
        "id": "713fe465"
      },
      "outputs": [
        {
          "name": "stdout",
          "output_type": "stream",
          "text": [
            "D\n"
          ]
        }
      ],
      "source": [
        "score = int(input(\"Enter your exam score (0-100): \"))\n",
        "\n",
        "# Write your if-elif-else structure here\n",
        "if score >=95:\n",
        "    print(\"A\")\n",
        "elif score>=82:\n",
        "    print(\"B\")\n",
        "elif score>=68:\n",
        "    print(\"D\")\n",
        "else:\n",
        "    print(\"F\")"
      ]
    },
    {
      "cell_type": "markdown",
      "id": "5eb62c5d",
      "metadata": {
        "id": "5eb62c5d"
      },
      "source": [
        "### 🔎 Try it Yourself\n",
        "Change the inputs and run the code to see different results:"
      ]
    },
    {
      "cell_type": "code",
      "execution_count": null,
      "id": "7c4441d2",
      "metadata": {
        "id": "7c4441d2"
      },
      "outputs": [],
      "source": [
        "# Write additional tests here\n"
      ]
    },
    {
      "cell_type": "markdown",
      "id": "4981fcb5",
      "metadata": {
        "id": "4981fcb5"
      },
      "source": [
        "## Cumulative Exercise: Movie Ticket Pricing System 🎬\n",
        "\n",
        "**Problem Statement:**\n",
        "You are designing a simple movie ticket system. Rules:\n",
        "1. Children under 5 → free\n",
        "2. Students (13–25) → $7\n",
        "3. Adults (26–59) → $12\n",
        "4. Seniors (60+) → $6\n",
        "\n",
        "Write a program that asks the user for their age, then prints the ticket price.\n",
        "\n",
        "**Hint:** Check under 5 first, then handle other ranges with elif. Think about age order carefully.\n",
        "\n",
        "**Expected Outputs:**\n",
        "- Input: 3 → Your ticket is free!\n",
        "- Input: 17 → Your ticket price is $7.\n",
        "- Input: 35 → Your ticket price is $12.\n",
        "- Input: 65 → Your ticket price is $6."
      ]
    },
    {
      "cell_type": "code",
      "execution_count": null,
      "id": "d8589881",
      "metadata": {
        "id": "d8589881"
      },
      "outputs": [
        {
          "name": "stdout",
          "output_type": "stream",
          "text": [
            "12$ ticket\n"
          ]
        }
      ],
      "source": [
        "age = int(input(\"Enter your age: \"))\n",
        "\n",
        "# Write your conditions here\n",
        "if age < 5:\n",
        "    print(\"Free ticket\")\n",
        "elif 13<=age<=25:\n",
        "    print(\"7$ ticket\")\n",
        "elif 26<=age<=59:\n",
        "    print(\"12$ ticket\")\n",
        "\n",
        "elif age>=60:\n",
        "    print(\"Seniors ticket $6\")\n",
        "else:\n",
        "    print(\"enter a valid age \")"
      ]
    },
    {
      "cell_type": "markdown",
      "id": "7a2803f3",
      "metadata": {
        "id": "7a2803f3"
      },
      "source": [
        "### 🔎 Try it Yourself\n",
        "Change the inputs and run the code to see different results:"
      ]
    },
    {
      "cell_type": "code",
      "execution_count": null,
      "id": "3b6ea3ae",
      "metadata": {
        "id": "3b6ea3ae"
      },
      "outputs": [],
      "source": [
        "# Write additional tests here\n"
      ]
    }
  ],
  "metadata": {
    "colab": {
      "provenance": []
    },
    "kernelspec": {
      "display_name": "base",
      "language": "python",
      "name": "python3"
    },
    "language_info": {
      "codemirror_mode": {
        "name": "ipython",
        "version": 3
      },
      "file_extension": ".py",
      "mimetype": "text/x-python",
      "name": "python",
      "nbconvert_exporter": "python",
      "pygments_lexer": "ipython3",
      "version": "3.11.5"
    }
  },
  "nbformat": 4,
  "nbformat_minor": 5
}
