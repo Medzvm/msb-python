{
  "cells": [
    {
      "cell_type": "markdown",
      "metadata": {
        "id": "6c2005c2-6676-4baf-9fc3-e929693f102b"
      },
      "source": [
        "# **WEEK 04 (Business Computing 01) LAB_02_Condition Statement**\n",
        "\n",
        "# Conditions in Python\n",
        "  \n",
        "\n",
        "## Objectives\n",
        "\n",
        "After completing this lab you will be able to:\n",
        "\n",
        "* work with condition statements in Python, including operators, and branching.\n"
      ]
    },
    {
      "cell_type": "markdown",
      "metadata": {
        "id": "41427508-801f-42a1-9866-b3546320f692"
      },
      "source": [
        "<h2 id=\"cond\">Condition Statements</h2>\n"
      ]
    },
    {
      "cell_type": "markdown",
      "metadata": {
        "id": "e8330c44-c43b-409b-98c7-b39a2d171b3d"
      },
      "source": [
        "<h3 id=\"comp\">Comparison Operators</h3>\n"
      ]
    },
    {
      "cell_type": "markdown",
      "metadata": {
        "id": "6424836b-6ba4-4e1f-a581-dceb0e5cd66f"
      },
      "source": [
        "Comparison operations compare some value or operand and based on a condition, produce a Boolean. When comparing two values you can use these operators:\n",
        "\n",
        "<ul>\n",
        "    <li>equal: <b>==</b></li>\n",
        "    <li>not equal: <b>!=</b></li>\n",
        "    <li>greater than: <b>></b></li>\n",
        "    <li>less than: <b>&lt;</b></li>\n",
        "    <li>greater than or equal to: <b>>=</b></li>\n",
        "    <li>less than or equal to: <b>&lt;=</b></li>\n",
        "</ul>\n"
      ]
    },
    {
      "cell_type": "markdown",
      "metadata": {
        "id": "def3e4c1-b718-4b38-9419-3c5d2afe5d32"
      },
      "source": [
        "Let's assign <code>a</code> a value of 5. Use the equality operator denoted with two equal <b>==</b> signs to determine if two values are equal. The case below compares the variable <code>a</code> with 6.\n"
      ]
    },
    {
      "cell_type": "code",
      "execution_count": 3,
      "metadata": {
        "colab": {
          "base_uri": "https://localhost:8080/"
        },
        "id": "c6ab342b-b4bb-42aa-945e-a28fc59f9968",
        "outputId": "02835683-de1d-4a46-9afc-648f63293620"
      },
      "outputs": [
        {
          "name": "stdout",
          "output_type": "stream",
          "text": [
            "assingment:  a= 5\n",
            "comparaison: == False\n"
          ]
        }
      ],
      "source": [
        "# Condition Equal\n",
        "\n",
        "a = 5\n",
        "print(\"assingment:  a=\",a)\n",
        "\n",
        "a == 6\n",
        "print(\"comparaison: ==\", a == 6)"
      ]
    },
    {
      "cell_type": "markdown",
      "metadata": {
        "id": "c8a85593-637b-494b-8d1a-c9ecce6cf1ce"
      },
      "source": [
        "The result is <b>False</b>, as 5 does not equal to 6.\n"
      ]
    },
    {
      "cell_type": "markdown",
      "metadata": {
        "id": "cfcf011e-df10-473b-891b-2e37f6ce6b27"
      },
      "source": [
        "Consider the following equality comparison operator: <code>i > 5</code>. If the value of the left operand, in this case the variable <b>i</b>, is greater than the value of the right operand, in this case 5, then the statement is <b>True</b>. Otherwise, the statement is <b>False</b>.  If <b>i</b> is equal to 6, because 6 is larger than 5, the output is <b>True</b>.\n"
      ]
    },
    {
      "cell_type": "code",
      "execution_count": 4,
      "metadata": {
        "colab": {
          "base_uri": "https://localhost:8080/"
        },
        "id": "d37d0413-160e-428d-b982-8a9c79650509",
        "outputId": "8d28e822-5bc3-4c4a-9451-3ae612d79967"
      },
      "outputs": [
        {
          "data": {
            "text/plain": [
              "True"
            ]
          },
          "execution_count": 4,
          "metadata": {},
          "output_type": "execute_result"
        }
      ],
      "source": [
        "# Greater than Sign\n",
        "\n",
        "i = 6\n",
        "i > 5"
      ]
    },
    {
      "cell_type": "markdown",
      "metadata": {
        "id": "a9f599ec-c18b-41a1-b578-3aba1b6073f0"
      },
      "source": [
        "Set <code>i = 2</code>. The statement is False as 2 is not greater than 5:\n"
      ]
    },
    {
      "cell_type": "code",
      "execution_count": 5,
      "metadata": {
        "colab": {
          "base_uri": "https://localhost:8080/"
        },
        "id": "c0ced57d-ae71-4105-a585-e40b517aef4b",
        "outputId": "54b76233-abb2-4861-ad2e-1bb7f084da64"
      },
      "outputs": [
        {
          "data": {
            "text/plain": [
              "False"
            ]
          },
          "execution_count": 5,
          "metadata": {},
          "output_type": "execute_result"
        }
      ],
      "source": [
        "# Greater than Sign\n",
        "\n",
        "i = 2\n",
        "i > 5"
      ]
    },
    {
      "cell_type": "markdown",
      "metadata": {
        "id": "85ba7665-f86c-457c-80a5-55c2902ba936"
      },
      "source": [
        "The inequality test uses an exclamation mark preceding the equal sign, if two operands are not equal then the condition becomes **True**.  For example, the following condition will produce **True** as long as the value of <code>i</code> is not equal to 6:\n"
      ]
    },
    {
      "cell_type": "code",
      "execution_count": 6,
      "metadata": {
        "colab": {
          "base_uri": "https://localhost:8080/"
        },
        "id": "31f9c965-f37b-4f8a-ad1f-29f6d899343b",
        "outputId": "555ffc1a-132d-4a47-dd1a-ad46ac23a671"
      },
      "outputs": [
        {
          "data": {
            "text/plain": [
              "True"
            ]
          },
          "execution_count": 6,
          "metadata": {},
          "output_type": "execute_result"
        }
      ],
      "source": [
        "# Inequality Sign\n",
        "\n",
        "i = 2\n",
        "i != 6"
      ]
    },
    {
      "cell_type": "markdown",
      "metadata": {
        "id": "345b9220-4c1b-4da8-ab2d-336b3ddee6c1"
      },
      "source": [
        "When <code>i</code> equals 6 the inequality expression produces <b>False</b>.\n"
      ]
    },
    {
      "cell_type": "code",
      "execution_count": 7,
      "metadata": {
        "colab": {
          "base_uri": "https://localhost:8080/"
        },
        "id": "25f05dcf-87e6-401c-bddc-d6beb556e336",
        "outputId": "74b6a049-3701-449c-e175-4a67fa6a1bc1"
      },
      "outputs": [
        {
          "data": {
            "text/plain": [
              "False"
            ]
          },
          "execution_count": 7,
          "metadata": {},
          "output_type": "execute_result"
        }
      ],
      "source": [
        "# Inequality Sign\n",
        "\n",
        "i = 6\n",
        "i != 6"
      ]
    },
    {
      "cell_type": "markdown",
      "metadata": {
        "id": "817b0afb-2702-4dd5-a0cb-20ea66995992"
      },
      "source": [
        " We can apply the same methods on strings. For example, we can use an equality operator on two different strings. As the strings are not equal, we get a **False**.\n"
      ]
    },
    {
      "cell_type": "code",
      "execution_count": 8,
      "metadata": {
        "colab": {
          "base_uri": "https://localhost:8080/"
        },
        "id": "b85f7a42-ac65-43a7-b100-e88b89ed8c04",
        "outputId": "4798d01a-6368-48f7-ec2c-b3c9e5470a29"
      },
      "outputs": [
        {
          "data": {
            "text/plain": [
              "False"
            ]
          },
          "execution_count": 8,
          "metadata": {},
          "output_type": "execute_result"
        }
      ],
      "source": [
        "# Use Equality sign to compare the strings\n",
        "\n",
        "\"ACDC\" == \"Michael Jackson\""
      ]
    },
    {
      "cell_type": "markdown",
      "metadata": {
        "id": "7e67861c-be01-4fa3-929f-29272ef00f77"
      },
      "source": [
        " If we use the inequality operator, the output is going to be **True** as the strings are not equal.\n"
      ]
    },
    {
      "cell_type": "code",
      "execution_count": 9,
      "metadata": {
        "colab": {
          "base_uri": "https://localhost:8080/"
        },
        "id": "115786af-7171-4e15-aa79-50b9e35686ec",
        "outputId": "0dfa4474-7a73-4faa-ea79-30900a176a61"
      },
      "outputs": [
        {
          "data": {
            "text/plain": [
              "True"
            ]
          },
          "execution_count": 9,
          "metadata": {},
          "output_type": "execute_result"
        }
      ],
      "source": [
        "# Use Inequality sign to compare the strings\n",
        "\n",
        "\"ACDC\" != \"Michael Jackson\""
      ]
    },
    {
      "cell_type": "markdown",
      "metadata": {
        "id": "2d50e4c5-b2a1-4e0d-9957-87aaec5268be"
      },
      "source": [
        "The inequality operation is also used to compare the letters/words/symbols according to the ASCII value of letters. The decimal value shown in the following table represents the order of the character:\n"
      ]
    },
    {
      "cell_type": "markdown",
      "metadata": {
        "id": "53725172-848e-4927-9989-f6f14908fe28"
      },
      "source": [
        "\n",
        "<style type=\"text/css\">\n",
        ".tg  {border-collapse:collapse;border-spacing:0;}\n",
        ".tg td{border-color:black;border-style:solid;border-width:1px;font-family:Arial, sans-serif;font-size:14px;\n",
        "  overflow:hidden;padding:10px 5px;word-break:normal;}\n",
        ".tg th{border-color:black;border-style:solid;border-width:1px;font-family:Arial, sans-serif;font-size:14px;\n",
        "  font-weight:normal;overflow:hidden;padding:10px 5px;word-break:normal;}\n",
        ".tg .tg-baqh{text-align:center;vertical-align:top}\n",
        ".tg .tg-7geq{background-color:#ffffc7;text-align:center;vertical-align:top}\n",
        ".tg .tg-1cln{background-color:#ffcc67;font-size:100%;font-weight:bold;text-align:center;vertical-align:top}\n",
        ".tg .tg-xozw{background-color:#ffcc67;font-weight:bold;text-align:center;vertical-align:top}\n",
        "</style>\n",
        "<table class=\"tg\">\n",
        "<thead>\n",
        "  <tr>\n",
        "    <th class=\"tg-1cln\">Char.</th>\n",
        "    <th class=\"tg-xozw\">ASCII</th>\n",
        "    <th class=\"tg-xozw\">Char.</th>\n",
        "    <th class=\"tg-xozw\">ASCII</th>\n",
        "    <th class=\"tg-xozw\">Char.</th>\n",
        "    <th class=\"tg-xozw\">ASCII</th>\n",
        "    <th class=\"tg-xozw\">Char.</th>\n",
        "    <th class=\"tg-xozw\">ASCII</th>\n",
        "  </tr>\n",
        "</thead>\n",
        "<tbody>\n",
        "  <tr>\n",
        "    <td class=\"tg-7geq\">A</td>\n",
        "    <td class=\"tg-baqh\">65</td>\n",
        "    <td class=\"tg-7geq\">N</td>\n",
        "    <td class=\"tg-baqh\">78</td>\n",
        "    <td class=\"tg-7geq\">a</td>\n",
        "    <td class=\"tg-baqh\">97</td>\n",
        "    <td class=\"tg-7geq\">n</td>\n",
        "    <td class=\"tg-baqh\">110</td>\n",
        "  </tr>\n",
        "  <tr>\n",
        "    <td class=\"tg-7geq\">B</td>\n",
        "    <td class=\"tg-baqh\">66</td>\n",
        "    <td class=\"tg-7geq\">O</td>\n",
        "    <td class=\"tg-baqh\">79</td>\n",
        "    <td class=\"tg-7geq\">b</td>\n",
        "    <td class=\"tg-baqh\">98</td>\n",
        "    <td class=\"tg-7geq\">o</td>\n",
        "    <td class=\"tg-baqh\">111</td>\n",
        "  </tr>\n",
        "  <tr>\n",
        "    <td class=\"tg-7geq\">C</td>\n",
        "    <td class=\"tg-baqh\">67</td>\n",
        "    <td class=\"tg-7geq\">P</td>\n",
        "    <td class=\"tg-baqh\">80</td>\n",
        "    <td class=\"tg-7geq\">c</td>\n",
        "    <td class=\"tg-baqh\">99</td>\n",
        "    <td class=\"tg-7geq\">p</td>\n",
        "    <td class=\"tg-baqh\">112</td>\n",
        "  </tr>\n",
        "  <tr>\n",
        "    <td class=\"tg-7geq\">D</td>\n",
        "    <td class=\"tg-baqh\">68</td>\n",
        "    <td class=\"tg-7geq\">Q</td>\n",
        "    <td class=\"tg-baqh\">81</td>\n",
        "    <td class=\"tg-7geq\">d</td>\n",
        "    <td class=\"tg-baqh\">100</td>\n",
        "    <td class=\"tg-7geq\">q</td>\n",
        "    <td class=\"tg-baqh\">113</td>\n",
        "  </tr>\n",
        "  <tr>\n",
        "    <td class=\"tg-7geq\">E</td>\n",
        "    <td class=\"tg-baqh\">69</td>\n",
        "    <td class=\"tg-7geq\">R</td>\n",
        "    <td class=\"tg-baqh\">82</td>\n",
        "    <td class=\"tg-7geq\">e</td>\n",
        "    <td class=\"tg-baqh\">101</td>\n",
        "    <td class=\"tg-7geq\">r</td>\n",
        "    <td class=\"tg-baqh\">114</td>\n",
        "  </tr>\n",
        "  <tr>\n",
        "    <td class=\"tg-7geq\">F</td>\n",
        "    <td class=\"tg-baqh\">70</td>\n",
        "    <td class=\"tg-7geq\">S</td>\n",
        "    <td class=\"tg-baqh\">83</td>\n",
        "    <td class=\"tg-7geq\">f</td>\n",
        "    <td class=\"tg-baqh\">102</td>\n",
        "    <td class=\"tg-7geq\">s</td>\n",
        "    <td class=\"tg-baqh\">115</td>\n",
        "  </tr>\n",
        "  <tr>\n",
        "    <td class=\"tg-7geq\">G</td>\n",
        "    <td class=\"tg-baqh\">71</td>\n",
        "    <td class=\"tg-7geq\">T</td>\n",
        "    <td class=\"tg-baqh\">84</td>\n",
        "    <td class=\"tg-7geq\">g</td>\n",
        "    <td class=\"tg-baqh\">103</td>\n",
        "    <td class=\"tg-7geq\">t</td>\n",
        "    <td class=\"tg-baqh\">116</td>\n",
        "  </tr>\n",
        "  <tr>\n",
        "    <td class=\"tg-7geq\">H</td>\n",
        "    <td class=\"tg-baqh\">72</td>\n",
        "    <td class=\"tg-7geq\">U</td>\n",
        "    <td class=\"tg-baqh\">85</td>\n",
        "    <td class=\"tg-7geq\">h</td>\n",
        "    <td class=\"tg-baqh\">104</td>\n",
        "    <td class=\"tg-7geq\">u</td>\n",
        "    <td class=\"tg-baqh\">117</td>\n",
        "  </tr>\n",
        "  <tr>\n",
        "    <td class=\"tg-7geq\">I</td>\n",
        "    <td class=\"tg-baqh\">73</td>\n",
        "    <td class=\"tg-7geq\">V</td>\n",
        "    <td class=\"tg-baqh\">86</td>\n",
        "    <td class=\"tg-7geq\">i</td>\n",
        "    <td class=\"tg-baqh\">105</td>\n",
        "    <td class=\"tg-7geq\">v</td>\n",
        "    <td class=\"tg-baqh\">118</td>\n",
        "  </tr>\n",
        "  <tr>\n",
        "    <td class=\"tg-7geq\">J</td>\n",
        "    <td class=\"tg-baqh\">74</td>\n",
        "    <td class=\"tg-7geq\">W</td>\n",
        "    <td class=\"tg-baqh\">87</td>\n",
        "    <td class=\"tg-7geq\">j</td>\n",
        "    <td class=\"tg-baqh\">106</td>\n",
        "    <td class=\"tg-7geq\">w</td>\n",
        "    <td class=\"tg-baqh\">119</td>\n",
        "  </tr>\n",
        "  <tr>\n",
        "    <td class=\"tg-7geq\">K</td>\n",
        "    <td class=\"tg-baqh\">75</td>\n",
        "    <td class=\"tg-7geq\">X</td>\n",
        "    <td class=\"tg-baqh\">88</td>\n",
        "    <td class=\"tg-7geq\">k</td>\n",
        "    <td class=\"tg-baqh\">107</td>\n",
        "    <td class=\"tg-7geq\">x</td>\n",
        "    <td class=\"tg-baqh\">120</td>\n",
        "  </tr>\n",
        "  <tr>\n",
        "    <td class=\"tg-7geq\">L</td>\n",
        "    <td class=\"tg-baqh\">76</td>\n",
        "    <td class=\"tg-7geq\">Y</td>\n",
        "    <td class=\"tg-baqh\">89</td>\n",
        "    <td class=\"tg-7geq\">l</td>\n",
        "    <td class=\"tg-baqh\">108</td>\n",
        "    <td class=\"tg-7geq\">y</td>\n",
        "    <td class=\"tg-baqh\">121</td>\n",
        "  </tr>\n",
        "  <tr>\n",
        "    <td class=\"tg-7geq\">M</td>\n",
        "    <td class=\"tg-baqh\">77</td>\n",
        "    <td class=\"tg-7geq\">Z</td>\n",
        "    <td class=\"tg-baqh\">90</td>\n",
        "    <td class=\"tg-7geq\">m</td>\n",
        "    <td class=\"tg-baqh\">109</td>\n",
        "    <td class=\"tg-7geq\">z</td>\n",
        "    <td class=\"tg-baqh\">122</td>\n",
        "  </tr>\n",
        "</tbody>\n",
        "</table>\n"
      ]
    },
    {
      "cell_type": "markdown",
      "metadata": {
        "id": "ab5521d9-b53c-43e9-9d80-66fef9d11734"
      },
      "source": [
        "For example, the ASCII code for <b>!</b> is 33, while the ASCII code for <b>+</b> is 43. Therefore <b>+</b> is larger than <b>!</b> as 43 is greater than 33.\n"
      ]
    },
    {
      "cell_type": "markdown",
      "metadata": {
        "id": "886d7196-f8da-4b88-b940-7a19f2a5a5e0"
      },
      "source": [
        "Similarly, from the table above we see that the value for <b>A</b> is 65, and the value for <b>B</b> is 66, therefore:\n"
      ]
    },
    {
      "cell_type": "code",
      "execution_count": 10,
      "metadata": {
        "colab": {
          "base_uri": "https://localhost:8080/"
        },
        "id": "c4e3cbfc-283e-48df-a7c1-8314fab6c12c",
        "outputId": "74e5c88d-b09f-4239-9c44-cd4235b9b137"
      },
      "outputs": [
        {
          "data": {
            "text/plain": [
              "True"
            ]
          },
          "execution_count": 10,
          "metadata": {},
          "output_type": "execute_result"
        }
      ],
      "source": [
        "# Compare characters\n",
        "\n",
        "'B' > 'A'"
      ]
    },
    {
      "cell_type": "markdown",
      "metadata": {
        "id": "7d27694a-00e3-4a75-b9f0-e56bb91d3380"
      },
      "source": [
        " When there are multiple letters, the first letter takes precedence in ordering:\n"
      ]
    },
    {
      "cell_type": "code",
      "execution_count": 11,
      "metadata": {
        "colab": {
          "base_uri": "https://localhost:8080/"
        },
        "id": "e4e4169a-452b-42a0-a4de-5a2f041b7248",
        "outputId": "570ef526-88d6-46a9-c313-7dfb22d07d41"
      },
      "outputs": [
        {
          "data": {
            "text/plain": [
              "True"
            ]
          },
          "execution_count": 11,
          "metadata": {},
          "output_type": "execute_result"
        }
      ],
      "source": [
        "# Compare characters\n",
        "\n",
        "'BA' > 'AB'"
      ]
    },
    {
      "cell_type": "markdown",
      "metadata": {
        "id": "0572461a-de2e-4ec6-8735-ce97ee45d253"
      },
      "source": [
        "<b>Note</b>: Upper Case Letters have different ASCII code than Lower Case Letters, which means the comparison between the letters in Python is case-sensitive.\n"
      ]
    },
    {
      "cell_type": "markdown",
      "metadata": {
        "id": "d363259e-f9cc-451a-9b8d-e3889b50bb46"
      },
      "source": [
        "<h3 id=\"branch\">Branching</h3>\n"
      ]
    },
    {
      "cell_type": "markdown",
      "metadata": {
        "id": "8ae52568-e863-4674-9311-3ec0a7c5a892"
      },
      "source": [
        " Branching allows us to run different statements for different inputs. It is helpful to think of an **if statement** as a locked room, if the statement is **True** we can enter the room and your program will run some predefined tasks, but if the statement is **False** the program will ignore the task.\n"
      ]
    },
    {
      "cell_type": "markdown",
      "metadata": {
        "id": "e21e6e78-0c23-4c0c-a005-001cab9cd5e8"
      },
      "source": [
        "For example, to enter the ACDC concert. If the individual is older than 18, they can enter the ACDC concert. If they are 18 or younger, they cannot enter the concert.\n",
        "\n",
        "We can use the condition statements learned before as the conditions that need to be checked in the **if statement**. The syntax is as simple as <code> if <i>condition statement</i> :</code>, which contains a word <code>if</code>, any condition statement, and a colon at the end. Start your tasks which need to be executed under this condition in a new line with an indent. The lines of code after the colon and with an indent will only be executed when the **if statement** is **True**. The tasks will end when the line of code does not contain the indent.\n",
        "\n",
        "In the case below, the code <code>print(“you can enter”)</code> is executed only if the variable <code>age</code> is greater than 18 is a True case because this line of code has the indent. However, the execution of <code>print(“move on”)</code> will not be influenced by the if statement.\n"
      ]
    },
    {
      "cell_type": "code",
      "execution_count": 1,
      "metadata": {
        "id": "a7ea51ab-8440-453b-8ec7-7b3e21ff7e0b"
      },
      "outputs": [
        {
          "name": "stdout",
          "output_type": "stream",
          "text": [
            "you can enter\n",
            "move on\n"
          ]
        }
      ],
      "source": [
        "# If statement example\n",
        "\n",
        "age = 19\n",
        "#age = 18\n",
        "\n",
        "#expression that can be true or false\n",
        "if age > 18:\n",
        "\n",
        "    #within an indent, we have the expression that is run if the condition is true\n",
        "    print(\"you can enter\" )\n",
        "\n",
        "#The statements after the if statement will run regardless if the condition is true or false\n",
        "print(\"move on\")"
      ]
    },
    {
      "cell_type": "markdown",
      "metadata": {
        "id": "5becc0a8-5980-4af0-b525-c4f90a30d898"
      },
      "source": [
        "<i>Try uncommenting the age variable</i>\n"
      ]
    },
    {
      "cell_type": "markdown",
      "metadata": {
        "id": "61181570-a301-4d13-813c-bb19b2dbe27d"
      },
      "source": [
        "The <code>else</code> statement runs a block of code if none of the conditions are **True** before this <code>else</code> statement. Let's use the ACDC concert analogy again. If the user is 17 they cannot go to the ACDC concert,  but they can go to the Meatloaf concert.\n",
        "The syntax of the <code>else</code> statement is similar as the syntax of the <code>if</code> statement, as <code>else :</code>. Notice that, there is no condition statement for <code>else</code>.\n",
        "Try changing the values of <code>age</code> to see what happens:  \n"
      ]
    },
    {
      "cell_type": "code",
      "execution_count": 13,
      "metadata": {
        "id": "e08ebfbe-93fa-483c-a5c2-28238ab96dd2"
      },
      "outputs": [
        {
          "name": "stdout",
          "output_type": "stream",
          "text": [
            "go see Meat Loaf\n",
            "move on\n"
          ]
        }
      ],
      "source": [
        "# Else statement example\n",
        "\n",
        "age = 18\n",
        "# age = 19\n",
        "\n",
        "if age > 18:\n",
        "    print(\"you can enter\" )\n",
        "else:\n",
        "    print(\"go see Meat Loaf\" )\n",
        "\n",
        "print(\"move on\")"
      ]
    },
    {
      "cell_type": "markdown",
      "metadata": {
        "id": "eff662f0-4e2d-4b75-a3e7-00f7e5c1aca9"
      },
      "source": [
        "The <code>elif</code> statement, short for else if, allows us to check additional conditions if the condition statements before it are <b>False</b>. If the condition for the <code>elif</code> statement is <b>True</b>, the alternate expressions will be run. Consider the concert example, where if the individual is 18 they will go to the Pink Floyd concert instead of attending the ACDC or Meat-loaf concert. A person that is 18 years of age enters the area, and as they are not older than 18 they can not see ACDC, but since they are 18 years of age, they attend  Pink Floyd. After seeing Pink Floyd, they move on. The syntax of the <code>elif</code> statement is similar in that we merely change the <code>if</code> in the <code>if</code> statement to <code>elif</code>.\n"
      ]
    },
    {
      "cell_type": "code",
      "execution_count": 14,
      "metadata": {
        "colab": {
          "base_uri": "https://localhost:8080/"
        },
        "id": "442afa64-b4e4-4f62-8d3f-502fa45d8daa",
        "outputId": "7c15b365-1382-4d6b-c570-1d62ccf68b7a"
      },
      "outputs": [
        {
          "name": "stdout",
          "output_type": "stream",
          "text": [
            "go see Pink Floyd\n",
            "move on\n"
          ]
        }
      ],
      "source": [
        "# Elif statment example\n",
        "\n",
        "age = 18\n",
        "\n",
        "if age > 18:\n",
        "    print(\"you can enter\" )\n",
        "elif age == 18:\n",
        "    print(\"go see Pink Floyd\")\n",
        "else:\n",
        "    print(\"go see Meat Loaf\" )\n",
        "\n",
        "print(\"move on\")"
      ]
    },
    {
      "cell_type": "markdown",
      "metadata": {
        "id": "bb65abe5-edb3-43fc-a7f5-fc8bcf59dac4"
      },
      "source": [
        " Look at the following code:\n"
      ]
    },
    {
      "cell_type": "code",
      "execution_count": 15,
      "metadata": {
        "colab": {
          "base_uri": "https://localhost:8080/"
        },
        "id": "bc399094-df4e-491f-a554-314e0371d634",
        "outputId": "625817bd-ac0d-431d-d375-dcd0ac45d715"
      },
      "outputs": [
        {
          "name": "stdout",
          "output_type": "stream",
          "text": [
            "do something..\n"
          ]
        }
      ],
      "source": [
        "# Condition statement example\n",
        "\n",
        "#album_year = 1983\n",
        "album_year = 1970\n",
        "\n",
        "if album_year > 1980:\n",
        "    print(\"Album year is greater than 1980\")\n",
        "\n",
        "print('do something..')"
      ]
    },
    {
      "cell_type": "markdown",
      "metadata": {
        "id": "6c6d9134-40ae-43d2-88be-11cbb585bf3d"
      },
      "source": [
        "Feel free to change <code>album_year</code> value to other values -- you'll see that the result changes!\n"
      ]
    },
    {
      "cell_type": "markdown",
      "metadata": {
        "id": "f6449139-ab06-450c-b06c-d5363942b7ee"
      },
      "source": [
        "Notice that the code in the above <b>indented</b> block will only be executed if the results are <b>True</b>.\n"
      ]
    },
    {
      "cell_type": "markdown",
      "metadata": {
        "id": "b76504af-c92f-42fe-8f7a-176fb6f17211"
      },
      "source": [
        "As before, we can add an <code>else</code> block to the <code>if</code> block. The code in the <code>else</code> block will only be executed if the result is <b>False</b>.\n",
        "\n",
        "\n",
        "<b>Syntax:</b>\n",
        "\n",
        "if (condition):\n",
        "    # do something\n",
        "else:\n",
        "    # do something else\n"
      ]
    },
    {
      "cell_type": "code",
      "execution_count": 16,
      "metadata": {
        "colab": {
          "base_uri": "https://localhost:8080/"
        },
        "id": "794a3064-56cc-449d-a0c7-49149451651b",
        "outputId": "9c0d764f-a997-4db2-98de-8e5f480d3f49"
      },
      "outputs": [
        {
          "name": "stdout",
          "output_type": "stream",
          "text": [
            "Album year is greater than 1980\n",
            "do something..\n"
          ]
        }
      ],
      "source": [
        "# Condition statement example\n",
        "\n",
        "album_year = 1983\n",
        "#album_year = 1970\n",
        "\n",
        "if album_year > 1980:\n",
        "    print(\"Album year is greater than 1980\")\n",
        "else:\n",
        "    print(\"less than 1980\")\n",
        "\n",
        "print('do something..')"
      ]
    },
    {
      "cell_type": "markdown",
      "metadata": {
        "id": "d55b79bf-816d-47a7-a1b2-d2d2143ae4f2"
      },
      "source": [
        "Feel free to change the <code>album_year</code> value to other values -- you'll see that the result changes based on it!\n"
      ]
    },
    {
      "cell_type": "markdown",
      "metadata": {
        "id": "378d086e-c491-4edd-a5ae-dd87f225c457"
      },
      "source": [
        "# <h3 id=\"logic\">Logical operators</h3>\n"
      ]
    },
    {
      "cell_type": "markdown",
      "metadata": {
        "id": "feb8ef83-fc7a-4ccf-893d-6c6b6a3b2ae2"
      },
      "source": [
        "\n",
        "Sometimes you want to check more than one condition at once. For example, you might want to check if one condition and another condition are both **True**. Logical operators allow you to combine or modify conditions.\n",
        "<ul>\n",
        "    <li><code>and</code></li>\n",
        "    <li><code>or</code></li>\n",
        "    <li><code>not</code></li>\n",
        "</ul>\n",
        "\n"
      ]
    },
    {
      "cell_type": "markdown",
      "metadata": {
        "id": "8530d0b0-8079-4bfe-bafc-749c9643bee0"
      },
      "source": [
        "The <code>and</code> statement is only **True** when both conditions are true. The <code>or</code> statement is True if one condition, or both are **True**. The <code>not</code> statement outputs the opposite truth value.\n"
      ]
    },
    {
      "cell_type": "markdown",
      "metadata": {
        "id": "4a0b5605-9d4c-424e-87b7-b78bb87d847f"
      },
      "source": [
        "Let's see how to determine if an album was released after 1979 (1979 is not included) and before 1990 (1990 is not included).\n",
        "\n"
      ]
    },
    {
      "cell_type": "markdown",
      "metadata": {
        "id": "13b7bad6-6ef1-4f2e-a655-0a2ce9d92e99"
      },
      "source": [
        " The block of code to perform this check is given by:\n"
      ]
    },
    {
      "cell_type": "code",
      "execution_count": 17,
      "metadata": {
        "colab": {
          "base_uri": "https://localhost:8080/"
        },
        "id": "08f4c978-5af1-41d7-b435-0fc69a4359f3",
        "outputId": "a89472be-a9e4-4e7c-8a21-c3d067aa2423"
      },
      "outputs": [
        {
          "name": "stdout",
          "output_type": "stream",
          "text": [
            "Album year was in between 1980 and 1989\n",
            "\n",
            "Do Stuff..\n"
          ]
        }
      ],
      "source": [
        "# Condition statement example\n",
        "\n",
        "album_year = 1980\n",
        "\n",
        "if(album_year > 1979) and (album_year < 1990):\n",
        "    print (\"Album year was in between 1980 and 1989\")\n",
        "\n",
        "print(\"\")\n",
        "print(\"Do Stuff..\")"
      ]
    },
    {
      "cell_type": "markdown",
      "metadata": {
        "id": "93bf784c-a9d0-49f1-a314-253880d84140"
      },
      "source": [
        "To determine if an album was released before 1980 (1979 and earlier) or after 1989 (1990 and onward ), an or statement can be used. Periods before 1980 (1979 and earlier) or after 1989 (1990 and onward) satisfy this condition.\n"
      ]
    },
    {
      "cell_type": "markdown",
      "metadata": {
        "id": "961c5ee3-3234-401b-9c04-4f44409f5b40"
      },
      "source": [
        "The block of code to perform this check is given by:\n"
      ]
    },
    {
      "cell_type": "code",
      "execution_count": 18,
      "metadata": {
        "id": "cb13f9cc-13f9-48bc-9c17-ba8aa45ceb26"
      },
      "outputs": [
        {
          "name": "stdout",
          "output_type": "stream",
          "text": [
            "Album was not made in the 1980's\n"
          ]
        }
      ],
      "source": [
        "# Condition statement example\n",
        "\n",
        "album_year = 1990\n",
        "\n",
        "if(album_year < 1980) or (album_year > 1989):\n",
        "    print (\"Album was not made in the 1980's\")\n",
        "else:\n",
        "    print(\"The Album was made in the 1980's \")"
      ]
    },
    {
      "cell_type": "markdown",
      "metadata": {
        "id": "5a7ca936-20af-4199-9bd9-5708bc4ec98e"
      },
      "source": [
        "The <code>not</code> statement checks if the statement is false:\n"
      ]
    },
    {
      "cell_type": "code",
      "execution_count": 19,
      "metadata": {
        "id": "e003eb8f-5f92-47ed-96cb-233c7850debe"
      },
      "outputs": [
        {
          "name": "stdout",
          "output_type": "stream",
          "text": [
            "Album year is not 1984\n"
          ]
        }
      ],
      "source": [
        "# Condition statement example\n",
        "\n",
        "album_year = 1983\n",
        "\n",
        "if not (album_year == 1984):\n",
        "    print (\"Album year is not 1984\")"
      ]
    },
    {
      "cell_type": "markdown",
      "metadata": {
        "id": "222cc819-da79-45de-a9aa-7386330040bd"
      },
      "source": [
        "<hr>\n"
      ]
    },
    {
      "cell_type": "markdown",
      "metadata": {
        "id": "fdeb6886-cc5f-40ab-a1e1-465faaf94f03"
      },
      "source": [
        "<h2 id=\"quiz\">Practise Exercises</h2>\n"
      ]
    },
    {
      "cell_type": "markdown",
      "metadata": {
        "id": "c406a406-4545-412a-836c-45287291e94a"
      },
      "source": [
        "##### 1. There are 2 sisters, Annie and Jane, born in 1996 and 1999 respectively. They want to know who was born in a leap year. Write an if-else statement to determine who was born in a leap year.\n"
      ]
    },
    {
      "cell_type": "code",
      "execution_count": 2,
      "metadata": {
        "id": "314631b7-9200-4138-acfa-a7f8697f8ee0"
      },
      "outputs": [
        {
          "name": "stdout",
          "output_type": "stream",
          "text": [
            "Annie was born in a leap year\n"
          ]
        }
      ],
      "source": [
        "# Write your code below and press Shift+Enter to execute\n",
        "Annie = 1996\n",
        "jane = 1999\n",
        "if Annie%4 == 0:\n",
        "    print(\"Annie was born in a leap year\")\n",
        "elif jane%4 == 0:\n",
        "    print(\"Jane was born in a leap year\")\n",
        "else:\n",
        "    print(\"Neither Annie nor Jane were born in a leap year\")"
      ]
    },
    {
      "cell_type": "markdown",
      "metadata": {
        "id": "58fe621e-5989-42c8-9205-e0df77ce26c8"
      },
      "source": [
        "<details><summary>Click here for the hint</summary>\n",
        "\n",
        "A leap year is one that is divisible by 4 and for those divisible by 4 and by 100 but not divisible by 400 are not leap like 1900\n",
        "\n",
        "</details>\n"
      ]
    },
    {
      "cell_type": "markdown",
      "metadata": {
        "id": "1c311f01-2238-4b24-b7cf-bc246e6248fd"
      },
      "source": [
        "##### 2. In a school canteen, children under the age of 9 are only given milk porridge for breakfast. Children from 10 to 14 are given a sandwich, and children from 15 to 17 are given a burger. The canteen master asks the age of the student and gives them breakfast accordingly. Sam's age is 10. Use if-else statement to determine what the canteen master will offer to him.\n"
      ]
    },
    {
      "cell_type": "code",
      "execution_count": 3,
      "metadata": {
        "id": "a79a577e-6308-4295-b814-c68643fe1008"
      },
      "outputs": [
        {
          "name": "stdout",
          "output_type": "stream",
          "text": [
            "get normal sandwich\n"
          ]
        }
      ],
      "source": [
        "# Write your code below and press Shift+Enter to execute\n",
        "age = 10\n",
        "if age<9:\n",
        "    print(\" get milk porridge\")\n",
        "elif 10<=age<=14:\n",
        "    print(\"get normal sandwich\")\n",
        "\n",
        "elif 15<=age<=17:\n",
        "    print(\"get A burger\")\n",
        "else:\n",
        "    print(\"get a steak\")\n"
      ]
    },
    {
      "cell_type": "markdown",
      "metadata": {
        "id": "356a7a4a-2fe3-4205-9535-0b1a396851cc"
      },
      "source": [
        "<details><summary>Click here for the hint</summary>\n",
        "\n",
        "<p>For each range of age, create an if condition and print what the student will get according to their age<p>\n",
        "\n",
        "</details>\n"
      ]
    }
  ],
  "metadata": {
    "colab": {
      "provenance": []
    },
    "kernelspec": {
      "display_name": "base",
      "language": "python",
      "name": "python3"
    },
    "language_info": {
      "codemirror_mode": {
        "name": "ipython",
        "version": 3
      },
      "file_extension": ".py",
      "mimetype": "text/x-python",
      "name": "python",
      "nbconvert_exporter": "python",
      "pygments_lexer": "ipython3",
      "version": "3.11.5"
    }
  },
  "nbformat": 4,
  "nbformat_minor": 0
}
